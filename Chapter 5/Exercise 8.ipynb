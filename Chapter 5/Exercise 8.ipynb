{
 "cells": [
  {
   "cell_type": "code",
   "execution_count": 1,
   "id": "e9becbe7",
   "metadata": {},
   "outputs": [],
   "source": [
    "import numpy as np\n",
    "import statsmodels.api as sm\n",
    "import pandas as pd\n",
    "import matplotlib.pyplot as plt\n",
    "from ISLP import load_data\n",
    "from ISLP.models import (ModelSpec as MS,\n",
    "                         summarize,\n",
    "                         poly)\n",
    "from sklearn.model_selection import train_test_split\n",
    "from ISLP import confusion_table"
   ]
  },
  {
   "cell_type": "code",
   "execution_count": 2,
   "id": "87605ca0",
   "metadata": {},
   "outputs": [],
   "source": [
    "from functools import partial\n",
    "from sklearn.model_selection import \\\n",
    "     (cross_validate,\n",
    "      KFold,\n",
    "      ShuffleSplit)\n",
    "from sklearn.base import clone\n",
    "from ISLP.models import sklearn_sm"
   ]
  },
  {
   "cell_type": "code",
   "execution_count": 3,
   "id": "2eb906b1",
   "metadata": {},
   "outputs": [],
   "source": [
    "import sklearn.model_selection as skm\n",
    "import sklearn.linear_model as skl\n",
    "from sklearn.preprocessing import StandardScaler"
   ]
  },
  {
   "cell_type": "code",
   "execution_count": 4,
   "id": "6c4c49da-7bc0-4d5e-9cf4-17c618c21155",
   "metadata": {},
   "outputs": [],
   "source": [
    "from sklearn.pipeline import Pipeline\n",
    "from ISLP.models import \\\n",
    "     (Stepwise,\n",
    "      sklearn_selected,\n",
    "      sklearn_selection_path)\n",
    "from l0bnb import fit_path"
   ]
  },
  {
   "cell_type": "code",
   "execution_count": 5,
   "id": "d6ffcfb3",
   "metadata": {},
   "outputs": [],
   "source": [
    "from sklearn.tree import (DecisionTreeClassifier as DTC,\n",
    "                          DecisionTreeRegressor as DTR,\n",
    "                          plot_tree,\n",
    "                          export_text)\n",
    "from sklearn.metrics import (accuracy_score,\n",
    "                             log_loss)"
   ]
  },
  {
   "cell_type": "code",
   "execution_count": 6,
   "id": "63a63933",
   "metadata": {},
   "outputs": [],
   "source": [
    "from sklearn.svm import SVC\n",
    "from ISLP.svm import plot as plot_svm"
   ]
  },
  {
   "cell_type": "markdown",
   "id": "0adf8048",
   "metadata": {},
   "source": [
    "# 8.\n",
    "\n",
    "We will now perform cross-validation on a simulated data set."
   ]
  },
  {
   "cell_type": "markdown",
   "id": "e2073261",
   "metadata": {},
   "source": [
    "# a)"
   ]
  },
  {
   "cell_type": "code",
   "execution_count": 7,
   "id": "df01e96e",
   "metadata": {},
   "outputs": [],
   "source": [
    "rng = np.random.default_rng(1)\n",
    "x = rng.normal(size=100)\n",
    "y = x - 2 * x**2 + rng.normal(size=100)"
   ]
  },
  {
   "cell_type": "markdown",
   "id": "c4238032",
   "metadata": {},
   "source": [
    "n = 100, broj podataka (data lenght)\n",
    "\n",
    "p = 2, $x$ i $x^2$\n",
    "\n",
    "$Y = X - 2X^2 + \\epsilon$"
   ]
  },
  {
   "cell_type": "markdown",
   "id": "9569cc3e",
   "metadata": {},
   "source": [
    "# b)"
   ]
  },
  {
   "cell_type": "code",
   "execution_count": 8,
   "id": "542148f7",
   "metadata": {},
   "outputs": [
    {
     "data": {
      "image/png": "[encoded data removed]",
      "text/plain": [
       "<Figure size 640x480 with 1 Axes>"
      ]
     },
     "metadata": {},
     "output_type": "display_data"
    }
   ],
   "source": [
    "plt.scatter(x,y)\n",
    "plt.xlabel('x')\n",
    "plt.ylabel('y')\n",
    "plt.show()"
   ]
  },
  {
   "cell_type": "markdown",
   "id": "a1907a7b",
   "metadata": {},
   "source": [
    "Oblik konkavne parabole s negativnom diskriminantom, gdje je otprilike $X \\in <-3,3>$ i $Y \\in <-15,2.5>$.\n",
    "\n",
    "A concave parabola shape with a negative discriminant, approximately where $X \\in <-3,3>$ and $Y \\in <-15,2.5>$."
   ]
  },
  {
   "cell_type": "code",
   "execution_count": 9,
   "id": "b47d8cf2",
   "metadata": {},
   "outputs": [
    {
     "name": "stdout",
     "output_type": "stream",
     "text": [
      "x_min: -2.7111624789659685 x_max: 2.1178387550510482\n",
      "y_min: -14.864068638188634 y_max: 2.097053679347162\n"
     ]
    }
   ],
   "source": [
    "print('x_min:',x.min(),'x_max:',x.max())\n",
    "print('y_min:',y.min(),'y_max:',y.max())"
   ]
  },
  {
   "cell_type": "markdown",
   "id": "f0f2ed22",
   "metadata": {},
   "source": [
    "# c)"
   ]
  },
  {
   "cell_type": "code",
   "execution_count": 10,
   "id": "61884202",
   "metadata": {},
   "outputs": [],
   "source": [
    "#epsilon = rng.normal(size=100)\n",
    "data = {\"X\": x,\"Y\": y}\n",
    "df = pd.DataFrame(data)"
   ]
  },
  {
   "cell_type": "code",
   "execution_count": 11,
   "id": "b45d0a0a",
   "metadata": {
    "scrolled": true
   },
   "outputs": [
    {
     "data": {
      "text/plain": [
       "array([6.63302984, 1.12293686, 1.30179655, 1.33239427])"
      ]
     },
     "execution_count": 11,
     "metadata": {},
     "output_type": "execute_result"
    }
   ],
   "source": [
    "rng = np.random.default_rng(1)\n",
    "LOOCV_error = np.zeros(4)\n",
    "H = np.array(df['X'])\n",
    "Y = np.array(df['Y'])\n",
    "M = sklearn_sm(sm.OLS)\n",
    "for i, d in enumerate(range(1,5)):\n",
    "    X = np.power.outer(H, np.arange(d+1))\n",
    "    #X = np.c_[ X, epsilon ] \n",
    "    M_CV = cross_validate(M,\n",
    "                          X,\n",
    "                          Y,\n",
    "                          cv=df.shape[0])\n",
    "    LOOCV_error[i] = np.mean(M_CV['test_score'])\n",
    "LOOCV_error"
   ]
  },
  {
   "cell_type": "markdown",
   "id": "5f1f129c",
   "metadata": {},
   "source": [
    "# d)"
   ]
  },
  {
   "cell_type": "code",
   "execution_count": 12,
   "id": "050c79df",
   "metadata": {
    "scrolled": true
   },
   "outputs": [
    {
     "data": {
      "text/plain": [
       "array([6.63302984, 1.12293686, 1.30179655, 1.33239427])"
      ]
     },
     "execution_count": 12,
     "metadata": {},
     "output_type": "execute_result"
    }
   ],
   "source": [
    "#epsilon = rng.normal(size=100)\n",
    "rng = np.random.default_rng(10)\n",
    "LOOCV_error = np.zeros(4)\n",
    "H = np.array(df['X'])\n",
    "Y = np.array(df['Y'])\n",
    "M = sklearn_sm(sm.OLS)\n",
    "for i, d in enumerate(range(1,5)):\n",
    "    X = np.power.outer(H, np.arange(d+1))\n",
    "    #X = np.c_[ X, epsilon ] \n",
    "    M_CV = cross_validate(M,\n",
    "                          X,\n",
    "                          Y,\n",
    "                          cv=df.shape[0])\n",
    "    LOOCV_error[i] = np.mean(M_CV['test_score'])\n",
    "LOOCV_error"
   ]
  },
  {
   "cell_type": "markdown",
   "id": "f8e5b7cd",
   "metadata": {},
   "source": [
    "Rezultati su identični jer nije bitno kojim redoslijedom testiramo sve modele i tražimo greške.\n",
    "\n",
    "The results are identical because the order in which we test all the models and calculate the errors does not matter."
   ]
  },
  {
   "cell_type": "markdown",
   "id": "86ffc8c7",
   "metadata": {},
   "source": [
    "# e)"
   ]
  },
  {
   "cell_type": "markdown",
   "id": "6beb8090",
   "metadata": {},
   "source": [
    "Kvadratni model je imao najmanju grešku, to se moglo očekivati jer su Y podaci generirani pomoću linearnog i kvadratnog člana.\n",
    "\n",
    "The quadratic model had the smallest error, which was expected since the Y data were generated using linear and quadratic terms."
   ]
  },
  {
   "cell_type": "markdown",
   "id": "10c780e6",
   "metadata": {},
   "source": [
    "# f)"
   ]
  },
  {
   "cell_type": "code",
   "execution_count": 13,
   "id": "3754831c",
   "metadata": {},
   "outputs": [
    {
     "data": {
      "text/html": [
       "<div>\n",
       "<style scoped>\n",
       "    .dataframe tbody tr th:only-of-type {\n",
       "        vertical-align: middle;\n",
       "    }\n",
       "\n",
       "    .dataframe tbody tr th {\n",
       "        vertical-align: top;\n",
       "    }\n",
       "\n",
       "    .dataframe thead th {\n",
       "        text-align: right;\n",
       "    }\n",
       "</style>\n",
       "<table border=\"1\" class=\"dataframe\">\n",
       "  <thead>\n",
       "    <tr style=\"text-align: right;\">\n",
       "      <th></th>\n",
       "      <th>coef</th>\n",
       "      <th>std err</th>\n",
       "      <th>t</th>\n",
       "      <th>P&gt;|t|</th>\n",
       "    </tr>\n",
       "  </thead>\n",
       "  <tbody>\n",
       "    <tr>\n",
       "      <th>intercept</th>\n",
       "      <td>-1.4650</td>\n",
       "      <td>0.247</td>\n",
       "      <td>-5.937</td>\n",
       "      <td>0.0</td>\n",
       "    </tr>\n",
       "    <tr>\n",
       "      <th>X</th>\n",
       "      <td>1.9494</td>\n",
       "      <td>0.289</td>\n",
       "      <td>6.752</td>\n",
       "      <td>0.0</td>\n",
       "    </tr>\n",
       "  </tbody>\n",
       "</table>\n",
       "</div>"
      ],
      "text/plain": [
       "             coef  std err      t  P>|t|\n",
       "intercept -1.4650    0.247 -5.937    0.0\n",
       "X          1.9494    0.289  6.752    0.0"
      ]
     },
     "execution_count": 13,
     "metadata": {},
     "output_type": "execute_result"
    }
   ],
   "source": [
    "X = MS(['X']).fit_transform(df)\n",
    "model = sm.OLS(y, X)\n",
    "results = model.fit()\n",
    "summarize(results)\n",
    "#results.summary()"
   ]
  },
  {
   "cell_type": "code",
   "execution_count": 14,
   "id": "ff313582",
   "metadata": {},
   "outputs": [
    {
     "data": {
      "text/html": [
       "<div>\n",
       "<style scoped>\n",
       "    .dataframe tbody tr th:only-of-type {\n",
       "        vertical-align: middle;\n",
       "    }\n",
       "\n",
       "    .dataframe tbody tr th {\n",
       "        vertical-align: top;\n",
       "    }\n",
       "\n",
       "    .dataframe thead th {\n",
       "        text-align: right;\n",
       "    }\n",
       "</style>\n",
       "<table border=\"1\" class=\"dataframe\">\n",
       "  <thead>\n",
       "    <tr style=\"text-align: right;\">\n",
       "      <th></th>\n",
       "      <th>coef</th>\n",
       "      <th>std err</th>\n",
       "      <th>t</th>\n",
       "      <th>P&gt;|t|</th>\n",
       "    </tr>\n",
       "  </thead>\n",
       "  <tbody>\n",
       "    <tr>\n",
       "      <th>intercept</th>\n",
       "      <td>-1.6085</td>\n",
       "      <td>0.101</td>\n",
       "      <td>-15.974</td>\n",
       "      <td>0.0</td>\n",
       "    </tr>\n",
       "    <tr>\n",
       "      <th>poly(X, degree=2)[0]</th>\n",
       "      <td>16.6000</td>\n",
       "      <td>1.007</td>\n",
       "      <td>16.486</td>\n",
       "      <td>0.0</td>\n",
       "    </tr>\n",
       "    <tr>\n",
       "      <th>poly(X, degree=2)[1]</th>\n",
       "      <td>-22.2244</td>\n",
       "      <td>1.007</td>\n",
       "      <td>-22.072</td>\n",
       "      <td>0.0</td>\n",
       "    </tr>\n",
       "  </tbody>\n",
       "</table>\n",
       "</div>"
      ],
      "text/plain": [
       "                         coef  std err       t  P>|t|\n",
       "intercept             -1.6085    0.101 -15.974    0.0\n",
       "poly(X, degree=2)[0]  16.6000    1.007  16.486    0.0\n",
       "poly(X, degree=2)[1] -22.2244    1.007 -22.072    0.0"
      ]
     },
     "execution_count": 14,
     "metadata": {},
     "output_type": "execute_result"
    }
   ],
   "source": [
    "X = MS([poly('X',degree=2)]).fit_transform(df)\n",
    "model = sm.OLS(y, X)\n",
    "results = model.fit()\n",
    "summarize(results)\n",
    "#results.summary()"
   ]
  },
  {
   "cell_type": "code",
   "execution_count": 15,
   "id": "4a0312d5",
   "metadata": {},
   "outputs": [
    {
     "data": {
      "text/html": [
       "<div>\n",
       "<style scoped>\n",
       "    .dataframe tbody tr th:only-of-type {\n",
       "        vertical-align: middle;\n",
       "    }\n",
       "\n",
       "    .dataframe tbody tr th {\n",
       "        vertical-align: top;\n",
       "    }\n",
       "\n",
       "    .dataframe thead th {\n",
       "        text-align: right;\n",
       "    }\n",
       "</style>\n",
       "<table border=\"1\" class=\"dataframe\">\n",
       "  <thead>\n",
       "    <tr style=\"text-align: right;\">\n",
       "      <th></th>\n",
       "      <th>coef</th>\n",
       "      <th>std err</th>\n",
       "      <th>t</th>\n",
       "      <th>P&gt;|t|</th>\n",
       "    </tr>\n",
       "  </thead>\n",
       "  <tbody>\n",
       "    <tr>\n",
       "      <th>intercept</th>\n",
       "      <td>-1.6085</td>\n",
       "      <td>0.101</td>\n",
       "      <td>-15.986</td>\n",
       "      <td>0.000</td>\n",
       "    </tr>\n",
       "    <tr>\n",
       "      <th>poly(X, degree=3)[0]</th>\n",
       "      <td>16.6000</td>\n",
       "      <td>1.006</td>\n",
       "      <td>16.499</td>\n",
       "      <td>0.000</td>\n",
       "    </tr>\n",
       "    <tr>\n",
       "      <th>poly(X, degree=3)[1]</th>\n",
       "      <td>-22.2244</td>\n",
       "      <td>1.006</td>\n",
       "      <td>-22.089</td>\n",
       "      <td>0.000</td>\n",
       "    </tr>\n",
       "    <tr>\n",
       "      <th>poly(X, degree=3)[2]</th>\n",
       "      <td>-1.0768</td>\n",
       "      <td>1.006</td>\n",
       "      <td>-1.070</td>\n",
       "      <td>0.287</td>\n",
       "    </tr>\n",
       "  </tbody>\n",
       "</table>\n",
       "</div>"
      ],
      "text/plain": [
       "                         coef  std err       t  P>|t|\n",
       "intercept             -1.6085    0.101 -15.986  0.000\n",
       "poly(X, degree=3)[0]  16.6000    1.006  16.499  0.000\n",
       "poly(X, degree=3)[1] -22.2244    1.006 -22.089  0.000\n",
       "poly(X, degree=3)[2]  -1.0768    1.006  -1.070  0.287"
      ]
     },
     "execution_count": 15,
     "metadata": {},
     "output_type": "execute_result"
    }
   ],
   "source": [
    "X = MS([poly('X',degree=3)]).fit_transform(df)\n",
    "model = sm.OLS(y, X)\n",
    "results = model.fit()\n",
    "summarize(results)\n",
    "#results.summary()"
   ]
  },
  {
   "cell_type": "code",
   "execution_count": 16,
   "id": "55a3f44b",
   "metadata": {},
   "outputs": [
    {
     "data": {
      "text/html": [
       "<div>\n",
       "<style scoped>\n",
       "    .dataframe tbody tr th:only-of-type {\n",
       "        vertical-align: middle;\n",
       "    }\n",
       "\n",
       "    .dataframe tbody tr th {\n",
       "        vertical-align: top;\n",
       "    }\n",
       "\n",
       "    .dataframe thead th {\n",
       "        text-align: right;\n",
       "    }\n",
       "</style>\n",
       "<table border=\"1\" class=\"dataframe\">\n",
       "  <thead>\n",
       "    <tr style=\"text-align: right;\">\n",
       "      <th></th>\n",
       "      <th>coef</th>\n",
       "      <th>std err</th>\n",
       "      <th>t</th>\n",
       "      <th>P&gt;|t|</th>\n",
       "    </tr>\n",
       "  </thead>\n",
       "  <tbody>\n",
       "    <tr>\n",
       "      <th>intercept</th>\n",
       "      <td>-1.6085</td>\n",
       "      <td>0.098</td>\n",
       "      <td>-16.343</td>\n",
       "      <td>0.000</td>\n",
       "    </tr>\n",
       "    <tr>\n",
       "      <th>poly(X, degree=4)[0]</th>\n",
       "      <td>16.6000</td>\n",
       "      <td>0.984</td>\n",
       "      <td>16.867</td>\n",
       "      <td>0.000</td>\n",
       "    </tr>\n",
       "    <tr>\n",
       "      <th>poly(X, degree=4)[1]</th>\n",
       "      <td>-22.2244</td>\n",
       "      <td>0.984</td>\n",
       "      <td>-22.581</td>\n",
       "      <td>0.000</td>\n",
       "    </tr>\n",
       "    <tr>\n",
       "      <th>poly(X, degree=4)[2]</th>\n",
       "      <td>-1.0768</td>\n",
       "      <td>0.984</td>\n",
       "      <td>-1.094</td>\n",
       "      <td>0.277</td>\n",
       "    </tr>\n",
       "    <tr>\n",
       "      <th>poly(X, degree=4)[3]</th>\n",
       "      <td>2.2726</td>\n",
       "      <td>0.984</td>\n",
       "      <td>2.309</td>\n",
       "      <td>0.023</td>\n",
       "    </tr>\n",
       "  </tbody>\n",
       "</table>\n",
       "</div>"
      ],
      "text/plain": [
       "                         coef  std err       t  P>|t|\n",
       "intercept             -1.6085    0.098 -16.343  0.000\n",
       "poly(X, degree=4)[0]  16.6000    0.984  16.867  0.000\n",
       "poly(X, degree=4)[1] -22.2244    0.984 -22.581  0.000\n",
       "poly(X, degree=4)[2]  -1.0768    0.984  -1.094  0.277\n",
       "poly(X, degree=4)[3]   2.2726    0.984   2.309  0.023"
      ]
     },
     "execution_count": 16,
     "metadata": {},
     "output_type": "execute_result"
    }
   ],
   "source": [
    "X = MS([poly('X',degree=4)]).fit_transform(df)\n",
    "model = sm.OLS(y, X)\n",
    "results = model.fit()\n",
    "summarize(results)\n",
    "#results.summary()"
   ]
  },
  {
   "cell_type": "markdown",
   "id": "b1d7a66f",
   "metadata": {},
   "source": [
    "Linearni i kvadratni član su statistički značajni, dok veći članovi imaju veliku $p$ vrijednost. Ukratko, rezultati su u slaganju s LOOCV analizom. \n",
    "\n",
    "The linear and quadratic terms are statistically significant, while the higher-order terms have large $p$-values. In short, the results are consistent with the LOOCV analysis."
   ]
  }
 ],
 "metadata": {
  "kernelspec": {
   "display_name": "Python 3 (ipykernel)",
   "language": "python",
   "name": "python3"
  },
  "language_info": {
   "codemirror_mode": {
    "name": "ipython",
    "version": 3
   },
   "file_extension": ".py",
   "mimetype": "text/x-python",
   "name": "python",
   "nbconvert_exporter": "python",
   "pygments_lexer": "ipython3",
   "version": "3.11.10"
  }
 },
 "nbformat": 4,
 "nbformat_minor": 5
}
