{
 "cells": [
  {
   "cell_type": "code",
   "execution_count": 1,
   "id": "5ddcb9d3",
   "metadata": {},
   "outputs": [],
   "source": [
    "import pandas as pd\n",
    "import matplotlib.pyplot as plt\n",
    "import numpy as np\n",
    "from ISLP import load_data"
   ]
  },
  {
   "cell_type": "markdown",
   "id": "1d34800a",
   "metadata": {},
   "source": [
    "# 10.\n",
    "\n",
    "This exercise involves the Boston housing data set."
   ]
  },
  {
   "cell_type": "markdown",
   "id": "653a3026",
   "metadata": {},
   "source": [
    "# a)"
   ]
  },
  {
   "cell_type": "code",
   "execution_count": 38,
   "id": "e6331319",
   "metadata": {},
   "outputs": [
    {
     "data": {
      "text/html": [
       "<div>\n",
       "<style scoped>\n",
       "    .dataframe tbody tr th:only-of-type {\n",
       "        vertical-align: middle;\n",
       "    }\n",
       "\n",
       "    .dataframe tbody tr th {\n",
       "        vertical-align: top;\n",
       "    }\n",
       "\n",
       "    .dataframe thead th {\n",
       "        text-align: right;\n",
       "    }\n",
       "</style>\n",
       "<table border=\"1\" class=\"dataframe\">\n",
       "  <thead>\n",
       "    <tr style=\"text-align: right;\">\n",
       "      <th></th>\n",
       "      <th>crim</th>\n",
       "      <th>zn</th>\n",
       "      <th>indus</th>\n",
       "      <th>chas</th>\n",
       "      <th>nox</th>\n",
       "      <th>rm</th>\n",
       "      <th>age</th>\n",
       "      <th>dis</th>\n",
       "      <th>rad</th>\n",
       "      <th>tax</th>\n",
       "      <th>ptratio</th>\n",
       "      <th>lstat</th>\n",
       "      <th>medv</th>\n",
       "    </tr>\n",
       "  </thead>\n",
       "  <tbody>\n",
       "    <tr>\n",
       "      <th>0</th>\n",
       "      <td>0.00632</td>\n",
       "      <td>18.0</td>\n",
       "      <td>2.31</td>\n",
       "      <td>0</td>\n",
       "      <td>0.538</td>\n",
       "      <td>6.575</td>\n",
       "      <td>65.2</td>\n",
       "      <td>4.0900</td>\n",
       "      <td>1</td>\n",
       "      <td>296</td>\n",
       "      <td>15.3</td>\n",
       "      <td>4.98</td>\n",
       "      <td>24.0</td>\n",
       "    </tr>\n",
       "    <tr>\n",
       "      <th>1</th>\n",
       "      <td>0.02731</td>\n",
       "      <td>0.0</td>\n",
       "      <td>7.07</td>\n",
       "      <td>0</td>\n",
       "      <td>0.469</td>\n",
       "      <td>6.421</td>\n",
       "      <td>78.9</td>\n",
       "      <td>4.9671</td>\n",
       "      <td>2</td>\n",
       "      <td>242</td>\n",
       "      <td>17.8</td>\n",
       "      <td>9.14</td>\n",
       "      <td>21.6</td>\n",
       "    </tr>\n",
       "    <tr>\n",
       "      <th>2</th>\n",
       "      <td>0.02729</td>\n",
       "      <td>0.0</td>\n",
       "      <td>7.07</td>\n",
       "      <td>0</td>\n",
       "      <td>0.469</td>\n",
       "      <td>7.185</td>\n",
       "      <td>61.1</td>\n",
       "      <td>4.9671</td>\n",
       "      <td>2</td>\n",
       "      <td>242</td>\n",
       "      <td>17.8</td>\n",
       "      <td>4.03</td>\n",
       "      <td>34.7</td>\n",
       "    </tr>\n",
       "    <tr>\n",
       "      <th>3</th>\n",
       "      <td>0.03237</td>\n",
       "      <td>0.0</td>\n",
       "      <td>2.18</td>\n",
       "      <td>0</td>\n",
       "      <td>0.458</td>\n",
       "      <td>6.998</td>\n",
       "      <td>45.8</td>\n",
       "      <td>6.0622</td>\n",
       "      <td>3</td>\n",
       "      <td>222</td>\n",
       "      <td>18.7</td>\n",
       "      <td>2.94</td>\n",
       "      <td>33.4</td>\n",
       "    </tr>\n",
       "    <tr>\n",
       "      <th>4</th>\n",
       "      <td>0.06905</td>\n",
       "      <td>0.0</td>\n",
       "      <td>2.18</td>\n",
       "      <td>0</td>\n",
       "      <td>0.458</td>\n",
       "      <td>7.147</td>\n",
       "      <td>54.2</td>\n",
       "      <td>6.0622</td>\n",
       "      <td>3</td>\n",
       "      <td>222</td>\n",
       "      <td>18.7</td>\n",
       "      <td>5.33</td>\n",
       "      <td>36.2</td>\n",
       "    </tr>\n",
       "    <tr>\n",
       "      <th>...</th>\n",
       "      <td>...</td>\n",
       "      <td>...</td>\n",
       "      <td>...</td>\n",
       "      <td>...</td>\n",
       "      <td>...</td>\n",
       "      <td>...</td>\n",
       "      <td>...</td>\n",
       "      <td>...</td>\n",
       "      <td>...</td>\n",
       "      <td>...</td>\n",
       "      <td>...</td>\n",
       "      <td>...</td>\n",
       "      <td>...</td>\n",
       "    </tr>\n",
       "    <tr>\n",
       "      <th>501</th>\n",
       "      <td>0.06263</td>\n",
       "      <td>0.0</td>\n",
       "      <td>11.93</td>\n",
       "      <td>0</td>\n",
       "      <td>0.573</td>\n",
       "      <td>6.593</td>\n",
       "      <td>69.1</td>\n",
       "      <td>2.4786</td>\n",
       "      <td>1</td>\n",
       "      <td>273</td>\n",
       "      <td>21.0</td>\n",
       "      <td>9.67</td>\n",
       "      <td>22.4</td>\n",
       "    </tr>\n",
       "    <tr>\n",
       "      <th>502</th>\n",
       "      <td>0.04527</td>\n",
       "      <td>0.0</td>\n",
       "      <td>11.93</td>\n",
       "      <td>0</td>\n",
       "      <td>0.573</td>\n",
       "      <td>6.120</td>\n",
       "      <td>76.7</td>\n",
       "      <td>2.2875</td>\n",
       "      <td>1</td>\n",
       "      <td>273</td>\n",
       "      <td>21.0</td>\n",
       "      <td>9.08</td>\n",
       "      <td>20.6</td>\n",
       "    </tr>\n",
       "    <tr>\n",
       "      <th>503</th>\n",
       "      <td>0.06076</td>\n",
       "      <td>0.0</td>\n",
       "      <td>11.93</td>\n",
       "      <td>0</td>\n",
       "      <td>0.573</td>\n",
       "      <td>6.976</td>\n",
       "      <td>91.0</td>\n",
       "      <td>2.1675</td>\n",
       "      <td>1</td>\n",
       "      <td>273</td>\n",
       "      <td>21.0</td>\n",
       "      <td>5.64</td>\n",
       "      <td>23.9</td>\n",
       "    </tr>\n",
       "    <tr>\n",
       "      <th>504</th>\n",
       "      <td>0.10959</td>\n",
       "      <td>0.0</td>\n",
       "      <td>11.93</td>\n",
       "      <td>0</td>\n",
       "      <td>0.573</td>\n",
       "      <td>6.794</td>\n",
       "      <td>89.3</td>\n",
       "      <td>2.3889</td>\n",
       "      <td>1</td>\n",
       "      <td>273</td>\n",
       "      <td>21.0</td>\n",
       "      <td>6.48</td>\n",
       "      <td>22.0</td>\n",
       "    </tr>\n",
       "    <tr>\n",
       "      <th>505</th>\n",
       "      <td>0.04741</td>\n",
       "      <td>0.0</td>\n",
       "      <td>11.93</td>\n",
       "      <td>0</td>\n",
       "      <td>0.573</td>\n",
       "      <td>6.030</td>\n",
       "      <td>80.8</td>\n",
       "      <td>2.5050</td>\n",
       "      <td>1</td>\n",
       "      <td>273</td>\n",
       "      <td>21.0</td>\n",
       "      <td>7.88</td>\n",
       "      <td>11.9</td>\n",
       "    </tr>\n",
       "  </tbody>\n",
       "</table>\n",
       "<p>506 rows × 13 columns</p>\n",
       "</div>"
      ],
      "text/plain": [
       "        crim    zn  indus  chas    nox     rm   age     dis  rad  tax  \\\n",
       "0    0.00632  18.0   2.31     0  0.538  6.575  65.2  4.0900    1  296   \n",
       "1    0.02731   0.0   7.07     0  0.469  6.421  78.9  4.9671    2  242   \n",
       "2    0.02729   0.0   7.07     0  0.469  7.185  61.1  4.9671    2  242   \n",
       "3    0.03237   0.0   2.18     0  0.458  6.998  45.8  6.0622    3  222   \n",
       "4    0.06905   0.0   2.18     0  0.458  7.147  54.2  6.0622    3  222   \n",
       "..       ...   ...    ...   ...    ...    ...   ...     ...  ...  ...   \n",
       "501  0.06263   0.0  11.93     0  0.573  6.593  69.1  2.4786    1  273   \n",
       "502  0.04527   0.0  11.93     0  0.573  6.120  76.7  2.2875    1  273   \n",
       "503  0.06076   0.0  11.93     0  0.573  6.976  91.0  2.1675    1  273   \n",
       "504  0.10959   0.0  11.93     0  0.573  6.794  89.3  2.3889    1  273   \n",
       "505  0.04741   0.0  11.93     0  0.573  6.030  80.8  2.5050    1  273   \n",
       "\n",
       "     ptratio  lstat  medv  \n",
       "0       15.3   4.98  24.0  \n",
       "1       17.8   9.14  21.6  \n",
       "2       17.8   4.03  34.7  \n",
       "3       18.7   2.94  33.4  \n",
       "4       18.7   5.33  36.2  \n",
       "..       ...    ...   ...  \n",
       "501     21.0   9.67  22.4  \n",
       "502     21.0   9.08  20.6  \n",
       "503     21.0   5.64  23.9  \n",
       "504     21.0   6.48  22.0  \n",
       "505     21.0   7.88  11.9  \n",
       "\n",
       "[506 rows x 13 columns]"
      ]
     },
     "execution_count": 38,
     "metadata": {},
     "output_type": "execute_result"
    }
   ],
   "source": [
    "Boston = load_data(\"Boston\"); Boston"
   ]
  },
  {
   "cell_type": "code",
   "execution_count": 39,
   "id": "5a06c309",
   "metadata": {},
   "outputs": [],
   "source": [
    "#Boston?"
   ]
  },
  {
   "cell_type": "markdown",
   "id": "acce157d",
   "metadata": {},
   "source": [
    "# b)"
   ]
  },
  {
   "cell_type": "markdown",
   "id": "1fdea73a",
   "metadata": {},
   "source": [
    "Skup podataka se sastoji od 506 redaka (bez tekstualnog retka) i 13 stupaca (bez index stupca), koji sadrže zapažanja o četvrtima oko Bostona. Redovi su različite četvrti, a stupci su promatrane veličine.\n",
    "\n",
    "The dataset consists of 506 rows (excluding the text row) and 13 columns (excluding the index column), containing observations about neighborhoods around Boston. The rows represent different neighborhoods, and the columns represent the observed variables."
   ]
  },
  {
   "cell_type": "markdown",
   "id": "6acab265",
   "metadata": {},
   "source": [
    "#"
   ]
  },
  {
   "cell_type": "markdown",
   "id": "a70db7a9",
   "metadata": {},
   "source": [
    "CRIM - per capita crime rate by town\n",
    "\n",
    "ZN - proportion of residential land zoned for lots over 25,000 sq.ft.\n",
    "\n",
    "INDUS - proportion of non-retail business acres per town.\n",
    "\n",
    "CHAS - Charles River dummy variable (1 if tract bounds river; 0 otherwise)\n",
    "\n",
    "NOX - nitric oxides concentration (parts per 10 million)\n",
    "\n",
    "RM - average number of rooms per dwelling\n",
    "\n",
    "AGE - proportion of owner-occupied units built prior to 1940\n",
    "\n",
    "DIS - weighted distances to five Boston employment centres\n",
    "\n",
    "RAD - index of accessibility to radial highways\n",
    "\n",
    "TAX - full-value property-tax rate per $10,000\n",
    "\n",
    "PTRATIO - pupil-teacher ratio by town\n",
    "\n",
    "B - 1000(Bk - 0.63)^2 where Bk is the proportion of blacks by town\n",
    "\n",
    "LSTAT - percent lower status of the population\n",
    "\n",
    "MEDV - Median value of owner-occupied homes in $1000's\n"
   ]
  },
  {
   "cell_type": "markdown",
   "id": "43f7e47a",
   "metadata": {},
   "source": [
    "# c)"
   ]
  },
  {
   "cell_type": "code",
   "execution_count": 40,
   "id": "6bef9b56",
   "metadata": {},
   "outputs": [],
   "source": [
    "#np.unique(Boston['crim'])"
   ]
  },
  {
   "cell_type": "code",
   "execution_count": 41,
   "id": "ea5b42d0",
   "metadata": {},
   "outputs": [
    {
     "data": {
      "image/png": "[encoded data removed]",
      "text/plain": [
       "<Figure size 1300x500 with 3 Axes>"
      ]
     },
     "metadata": {},
     "output_type": "display_data"
    }
   ],
   "source": [
    "fig, axs = plt.subplots(1, 3,figsize=(13, 5))\n",
    "Boston.plot.scatter('lstat', 'rm', ax=axs[0]);\n",
    "Boston.plot.scatter('indus', 'nox', ax=axs[1]);\n",
    "Boston.plot.scatter('lstat', 'age', ax=axs[2]);"
   ]
  },
  {
   "cell_type": "markdown",
   "id": "cd445451",
   "metadata": {},
   "source": [
    "1. slika pokazuje negativnu korelacija između srednjeg broja soba u kućanstvu i postotka populacije nižeg statusa.\n",
    "\n",
    "2. slika pokazuje pozitivnu korelaciju između plina NO i udia veleprodajnih objekata.\n",
    "\n",
    "3. slika poručuje pozitivnu korelaciju imzeđu postotka populacije nižeg statusa i građevina izgrađenih prije 1940. Također je vidljivo da na područijma s jako visokim lstat ima puno starih građevina.\n",
    "\n",
    "#\n",
    "\n",
    "1. The first image shows a negative correlation between the average number of rooms per household and the percentage of lower-status population.\n",
    "\n",
    "2. The second image shows a positive correlation between NO gas levels and the proportion of wholesale establishments.\n",
    "\n",
    "3. The third image indicates a positive correlation between the percentage of lower-status population and buildings constructed before 1940. It is also evident that in areas with a very high lstat, there are many old buildings."
   ]
  },
  {
   "cell_type": "markdown",
   "id": "5e76b753",
   "metadata": {},
   "source": [
    "# d)"
   ]
  },
  {
   "cell_type": "code",
   "execution_count": 42,
   "id": "ac26b0de",
   "metadata": {},
   "outputs": [
    {
     "data": {
      "text/plain": [
       "Text(0, 0.5, 'crim')"
      ]
     },
     "execution_count": 42,
     "metadata": {},
     "output_type": "execute_result"
    },
    {
     "data": {
      "image/png": "[encoded data removed]",
      "text/plain": [
       "<Figure size 1000x2000 with 12 Axes>"
      ]
     },
     "metadata": {},
     "output_type": "display_data"
    },
    {
     "data": {
      "image/png": "[encoded data removed]",
      "text/plain": [
       "<Figure size 400x400 with 1 Axes>"
      ]
     },
     "metadata": {},
     "output_type": "display_data"
    }
   ],
   "source": [
    "column_names = list(Boston.columns.values)\n",
    "fig, axs = plt.subplots(6, 2,figsize=(10, 20))\n",
    "k = 0\n",
    "for i in range (0,6):\n",
    "    for j in range (0,2):\n",
    "        k+=1\n",
    "        Boston.plot.scatter(column_names[k], 'crim', ax=axs[i, j]);\n",
    "\n",
    "Boston.boxplot('crim', by='chas',figsize=(4,4));\n",
    "plt.ylabel('crim')"
   ]
  },
  {
   "cell_type": "code",
   "execution_count": null,
   "id": "22e8b7da",
   "metadata": {},
   "outputs": [],
   "source": []
  },
  {
   "cell_type": "markdown",
   "id": "08a5686d",
   "metadata": {},
   "source": [
    "Veći kriminal za kvartove koji: nisu uz Charles rijeku, imaju jako stare zgrade, su blizu centrima za zapošljavanje, su blizu autocesta, imaju velike poreze, imaju puno učenika u odnosu na učitelje, imaju niski medv.\n",
    "\n",
    "\n",
    "Higher crime rates are found in neighborhoods that: are not located along the Charles River, have very old buildings, are close to employment centers, are near highways, have high taxes, have many students relative to teachers, and have low median values."
   ]
  },
  {
   "cell_type": "markdown",
   "id": "bef513ab",
   "metadata": {},
   "source": [
    "# e)"
   ]
  },
  {
   "cell_type": "markdown",
   "id": "11295f3e",
   "metadata": {},
   "source": [
    "# crim:"
   ]
  },
  {
   "cell_type": "code",
   "execution_count": 43,
   "id": "075e861e",
   "metadata": {
    "scrolled": true
   },
   "outputs": [
    {
     "data": {
      "text/plain": [
       "30"
      ]
     },
     "execution_count": 43,
     "metadata": {},
     "output_type": "execute_result"
    }
   ],
   "source": [
    "Boston[Boston['crim'] > 15].count()[0]"
   ]
  },
  {
   "cell_type": "code",
   "execution_count": 44,
   "id": "aeb11edb",
   "metadata": {},
   "outputs": [
    {
     "data": {
      "text/plain": [
       "6"
      ]
     },
     "execution_count": 44,
     "metadata": {},
     "output_type": "execute_result"
    }
   ],
   "source": [
    "Boston[Boston['crim'] > 40].count()[0]"
   ]
  },
  {
   "cell_type": "code",
   "execution_count": 45,
   "id": "5f125588",
   "metadata": {},
   "outputs": [
    {
     "data": {
      "text/html": [
       "<div>\n",
       "<style scoped>\n",
       "    .dataframe tbody tr th:only-of-type {\n",
       "        vertical-align: middle;\n",
       "    }\n",
       "\n",
       "    .dataframe tbody tr th {\n",
       "        vertical-align: top;\n",
       "    }\n",
       "\n",
       "    .dataframe thead th {\n",
       "        text-align: right;\n",
       "    }\n",
       "</style>\n",
       "<table border=\"1\" class=\"dataframe\">\n",
       "  <thead>\n",
       "    <tr style=\"text-align: right;\">\n",
       "      <th></th>\n",
       "      <th>crim</th>\n",
       "      <th>zn</th>\n",
       "      <th>indus</th>\n",
       "      <th>chas</th>\n",
       "      <th>nox</th>\n",
       "      <th>rm</th>\n",
       "      <th>age</th>\n",
       "      <th>dis</th>\n",
       "      <th>rad</th>\n",
       "      <th>tax</th>\n",
       "      <th>ptratio</th>\n",
       "      <th>lstat</th>\n",
       "      <th>medv</th>\n",
       "    </tr>\n",
       "  </thead>\n",
       "  <tbody>\n",
       "    <tr>\n",
       "      <th>380</th>\n",
       "      <td>88.9762</td>\n",
       "      <td>0.0</td>\n",
       "      <td>18.1</td>\n",
       "      <td>0</td>\n",
       "      <td>0.671</td>\n",
       "      <td>6.968</td>\n",
       "      <td>91.9</td>\n",
       "      <td>1.4165</td>\n",
       "      <td>24</td>\n",
       "      <td>666</td>\n",
       "      <td>20.2</td>\n",
       "      <td>17.21</td>\n",
       "      <td>10.4</td>\n",
       "    </tr>\n",
       "    <tr>\n",
       "      <th>404</th>\n",
       "      <td>41.5292</td>\n",
       "      <td>0.0</td>\n",
       "      <td>18.1</td>\n",
       "      <td>0</td>\n",
       "      <td>0.693</td>\n",
       "      <td>5.531</td>\n",
       "      <td>85.4</td>\n",
       "      <td>1.6074</td>\n",
       "      <td>24</td>\n",
       "      <td>666</td>\n",
       "      <td>20.2</td>\n",
       "      <td>27.38</td>\n",
       "      <td>8.5</td>\n",
       "    </tr>\n",
       "    <tr>\n",
       "      <th>405</th>\n",
       "      <td>67.9208</td>\n",
       "      <td>0.0</td>\n",
       "      <td>18.1</td>\n",
       "      <td>0</td>\n",
       "      <td>0.693</td>\n",
       "      <td>5.683</td>\n",
       "      <td>100.0</td>\n",
       "      <td>1.4254</td>\n",
       "      <td>24</td>\n",
       "      <td>666</td>\n",
       "      <td>20.2</td>\n",
       "      <td>22.98</td>\n",
       "      <td>5.0</td>\n",
       "    </tr>\n",
       "    <tr>\n",
       "      <th>410</th>\n",
       "      <td>51.1358</td>\n",
       "      <td>0.0</td>\n",
       "      <td>18.1</td>\n",
       "      <td>0</td>\n",
       "      <td>0.597</td>\n",
       "      <td>5.757</td>\n",
       "      <td>100.0</td>\n",
       "      <td>1.4130</td>\n",
       "      <td>24</td>\n",
       "      <td>666</td>\n",
       "      <td>20.2</td>\n",
       "      <td>10.11</td>\n",
       "      <td>15.0</td>\n",
       "    </tr>\n",
       "    <tr>\n",
       "      <th>414</th>\n",
       "      <td>45.7461</td>\n",
       "      <td>0.0</td>\n",
       "      <td>18.1</td>\n",
       "      <td>0</td>\n",
       "      <td>0.693</td>\n",
       "      <td>4.519</td>\n",
       "      <td>100.0</td>\n",
       "      <td>1.6582</td>\n",
       "      <td>24</td>\n",
       "      <td>666</td>\n",
       "      <td>20.2</td>\n",
       "      <td>36.98</td>\n",
       "      <td>7.0</td>\n",
       "    </tr>\n",
       "    <tr>\n",
       "      <th>418</th>\n",
       "      <td>73.5341</td>\n",
       "      <td>0.0</td>\n",
       "      <td>18.1</td>\n",
       "      <td>0</td>\n",
       "      <td>0.679</td>\n",
       "      <td>5.957</td>\n",
       "      <td>100.0</td>\n",
       "      <td>1.8026</td>\n",
       "      <td>24</td>\n",
       "      <td>666</td>\n",
       "      <td>20.2</td>\n",
       "      <td>20.62</td>\n",
       "      <td>8.8</td>\n",
       "    </tr>\n",
       "  </tbody>\n",
       "</table>\n",
       "</div>"
      ],
      "text/plain": [
       "        crim   zn  indus  chas    nox     rm    age     dis  rad  tax  \\\n",
       "380  88.9762  0.0   18.1     0  0.671  6.968   91.9  1.4165   24  666   \n",
       "404  41.5292  0.0   18.1     0  0.693  5.531   85.4  1.6074   24  666   \n",
       "405  67.9208  0.0   18.1     0  0.693  5.683  100.0  1.4254   24  666   \n",
       "410  51.1358  0.0   18.1     0  0.597  5.757  100.0  1.4130   24  666   \n",
       "414  45.7461  0.0   18.1     0  0.693  4.519  100.0  1.6582   24  666   \n",
       "418  73.5341  0.0   18.1     0  0.679  5.957  100.0  1.8026   24  666   \n",
       "\n",
       "     ptratio  lstat  medv  \n",
       "380     20.2  17.21  10.4  \n",
       "404     20.2  27.38   8.5  \n",
       "405     20.2  22.98   5.0  \n",
       "410     20.2  10.11  15.0  \n",
       "414     20.2  36.98   7.0  \n",
       "418     20.2  20.62   8.8  "
      ]
     },
     "execution_count": 45,
     "metadata": {},
     "output_type": "execute_result"
    }
   ],
   "source": [
    "Boston[Boston['crim'] > 40]"
   ]
  },
  {
   "cell_type": "markdown",
   "id": "db073827",
   "metadata": {},
   "source": [
    "Većina predgrađa ima manju stopu kriminala, ali ima nekoliko predgrađa koji imaju jako puno kriminala i sigurno su dobro poznati stanovništvu.\n",
    "\n",
    "Most suburbs have lower crime rates, but there are a few suburbs with very high crime rates that are surely well-known to the local population."
   ]
  },
  {
   "cell_type": "markdown",
   "id": "4ae9e9aa",
   "metadata": {},
   "source": [
    "# tax:"
   ]
  },
  {
   "cell_type": "code",
   "execution_count": 46,
   "id": "143260fe",
   "metadata": {},
   "outputs": [
    {
     "data": {
      "text/plain": [
       "Text(0, 0.5, 'number of cases')"
      ]
     },
     "execution_count": 46,
     "metadata": {},
     "output_type": "execute_result"
    },
    {
     "data": {
      "image/png": "[encoded data removed]",
      "text/plain": [
       "<Figure size 640x480 with 1 Axes>"
      ]
     },
     "metadata": {},
     "output_type": "display_data"
    }
   ],
   "source": [
    "Boston.hist('tax',edgecolor = \"red\", bins = 30);\n",
    "plt.ylabel('number of cases')"
   ]
  },
  {
   "cell_type": "code",
   "execution_count": 47,
   "id": "fbfcbd58",
   "metadata": {},
   "outputs": [
    {
     "data": {
      "text/plain": [
       "0"
      ]
     },
     "execution_count": 47,
     "metadata": {},
     "output_type": "execute_result"
    }
   ],
   "source": [
    "Boston[(Boston['tax'] > 490) & (Boston['tax'] < 650) ].count()[0]"
   ]
  },
  {
   "cell_type": "markdown",
   "id": "a80a3d1a",
   "metadata": {},
   "source": [
    "Zbog nekog razloga ne postoje predgrađa s porezom između 490 i 650.\n",
    "\n",
    "For some reason, there are no suburbs with taxes between 490 and 650."
   ]
  },
  {
   "cell_type": "code",
   "execution_count": 48,
   "id": "66c1d4c2",
   "metadata": {},
   "outputs": [
    {
     "data": {
      "text/html": [
       "<div>\n",
       "<style scoped>\n",
       "    .dataframe tbody tr th:only-of-type {\n",
       "        vertical-align: middle;\n",
       "    }\n",
       "\n",
       "    .dataframe tbody tr th {\n",
       "        vertical-align: top;\n",
       "    }\n",
       "\n",
       "    .dataframe thead th {\n",
       "        text-align: right;\n",
       "    }\n",
       "</style>\n",
       "<table border=\"1\" class=\"dataframe\">\n",
       "  <thead>\n",
       "    <tr style=\"text-align: right;\">\n",
       "      <th></th>\n",
       "      <th>crim</th>\n",
       "      <th>zn</th>\n",
       "      <th>indus</th>\n",
       "      <th>chas</th>\n",
       "      <th>nox</th>\n",
       "      <th>rm</th>\n",
       "      <th>age</th>\n",
       "      <th>dis</th>\n",
       "      <th>rad</th>\n",
       "      <th>tax</th>\n",
       "      <th>ptratio</th>\n",
       "      <th>lstat</th>\n",
       "      <th>medv</th>\n",
       "    </tr>\n",
       "  </thead>\n",
       "  <tbody>\n",
       "    <tr>\n",
       "      <th>488</th>\n",
       "      <td>0.15086</td>\n",
       "      <td>0.0</td>\n",
       "      <td>27.74</td>\n",
       "      <td>0</td>\n",
       "      <td>0.609</td>\n",
       "      <td>5.454</td>\n",
       "      <td>92.7</td>\n",
       "      <td>1.8209</td>\n",
       "      <td>4</td>\n",
       "      <td>711</td>\n",
       "      <td>20.1</td>\n",
       "      <td>18.06</td>\n",
       "      <td>15.2</td>\n",
       "    </tr>\n",
       "    <tr>\n",
       "      <th>489</th>\n",
       "      <td>0.18337</td>\n",
       "      <td>0.0</td>\n",
       "      <td>27.74</td>\n",
       "      <td>0</td>\n",
       "      <td>0.609</td>\n",
       "      <td>5.414</td>\n",
       "      <td>98.3</td>\n",
       "      <td>1.7554</td>\n",
       "      <td>4</td>\n",
       "      <td>711</td>\n",
       "      <td>20.1</td>\n",
       "      <td>23.97</td>\n",
       "      <td>7.0</td>\n",
       "    </tr>\n",
       "    <tr>\n",
       "      <th>490</th>\n",
       "      <td>0.20746</td>\n",
       "      <td>0.0</td>\n",
       "      <td>27.74</td>\n",
       "      <td>0</td>\n",
       "      <td>0.609</td>\n",
       "      <td>5.093</td>\n",
       "      <td>98.0</td>\n",
       "      <td>1.8226</td>\n",
       "      <td>4</td>\n",
       "      <td>711</td>\n",
       "      <td>20.1</td>\n",
       "      <td>29.68</td>\n",
       "      <td>8.1</td>\n",
       "    </tr>\n",
       "    <tr>\n",
       "      <th>491</th>\n",
       "      <td>0.10574</td>\n",
       "      <td>0.0</td>\n",
       "      <td>27.74</td>\n",
       "      <td>0</td>\n",
       "      <td>0.609</td>\n",
       "      <td>5.983</td>\n",
       "      <td>98.8</td>\n",
       "      <td>1.8681</td>\n",
       "      <td>4</td>\n",
       "      <td>711</td>\n",
       "      <td>20.1</td>\n",
       "      <td>18.07</td>\n",
       "      <td>13.6</td>\n",
       "    </tr>\n",
       "    <tr>\n",
       "      <th>492</th>\n",
       "      <td>0.11132</td>\n",
       "      <td>0.0</td>\n",
       "      <td>27.74</td>\n",
       "      <td>0</td>\n",
       "      <td>0.609</td>\n",
       "      <td>5.983</td>\n",
       "      <td>83.5</td>\n",
       "      <td>2.1099</td>\n",
       "      <td>4</td>\n",
       "      <td>711</td>\n",
       "      <td>20.1</td>\n",
       "      <td>13.35</td>\n",
       "      <td>20.1</td>\n",
       "    </tr>\n",
       "  </tbody>\n",
       "</table>\n",
       "</div>"
      ],
      "text/plain": [
       "        crim   zn  indus  chas    nox     rm   age     dis  rad  tax  ptratio  \\\n",
       "488  0.15086  0.0  27.74     0  0.609  5.454  92.7  1.8209    4  711     20.1   \n",
       "489  0.18337  0.0  27.74     0  0.609  5.414  98.3  1.7554    4  711     20.1   \n",
       "490  0.20746  0.0  27.74     0  0.609  5.093  98.0  1.8226    4  711     20.1   \n",
       "491  0.10574  0.0  27.74     0  0.609  5.983  98.8  1.8681    4  711     20.1   \n",
       "492  0.11132  0.0  27.74     0  0.609  5.983  83.5  2.1099    4  711     20.1   \n",
       "\n",
       "     lstat  medv  \n",
       "488  18.06  15.2  \n",
       "489  23.97   7.0  \n",
       "490  29.68   8.1  \n",
       "491  18.07  13.6  \n",
       "492  13.35  20.1  "
      ]
     },
     "execution_count": 48,
     "metadata": {},
     "output_type": "execute_result"
    }
   ],
   "source": [
    "Boston[Boston['tax'] > 670]"
   ]
  },
  {
   "cell_type": "markdown",
   "id": "7ec9876c",
   "metadata": {},
   "source": [
    "# ptratio:"
   ]
  },
  {
   "cell_type": "code",
   "execution_count": 49,
   "id": "35c27b2b",
   "metadata": {
    "scrolled": true
   },
   "outputs": [
    {
     "data": {
      "text/html": [
       "<div>\n",
       "<style scoped>\n",
       "    .dataframe tbody tr th:only-of-type {\n",
       "        vertical-align: middle;\n",
       "    }\n",
       "\n",
       "    .dataframe tbody tr th {\n",
       "        vertical-align: top;\n",
       "    }\n",
       "\n",
       "    .dataframe thead th {\n",
       "        text-align: right;\n",
       "    }\n",
       "</style>\n",
       "<table border=\"1\" class=\"dataframe\">\n",
       "  <thead>\n",
       "    <tr style=\"text-align: right;\">\n",
       "      <th></th>\n",
       "      <th>crim</th>\n",
       "      <th>zn</th>\n",
       "      <th>indus</th>\n",
       "      <th>chas</th>\n",
       "      <th>nox</th>\n",
       "      <th>rm</th>\n",
       "      <th>age</th>\n",
       "      <th>dis</th>\n",
       "      <th>rad</th>\n",
       "      <th>tax</th>\n",
       "      <th>ptratio</th>\n",
       "      <th>lstat</th>\n",
       "      <th>medv</th>\n",
       "    </tr>\n",
       "  </thead>\n",
       "  <tbody>\n",
       "    <tr>\n",
       "      <th>354</th>\n",
       "      <td>0.04301</td>\n",
       "      <td>80.0</td>\n",
       "      <td>1.91</td>\n",
       "      <td>0</td>\n",
       "      <td>0.413</td>\n",
       "      <td>5.663</td>\n",
       "      <td>21.9</td>\n",
       "      <td>10.5857</td>\n",
       "      <td>4</td>\n",
       "      <td>334</td>\n",
       "      <td>22.0</td>\n",
       "      <td>8.05</td>\n",
       "      <td>18.2</td>\n",
       "    </tr>\n",
       "    <tr>\n",
       "      <th>355</th>\n",
       "      <td>0.10659</td>\n",
       "      <td>80.0</td>\n",
       "      <td>1.91</td>\n",
       "      <td>0</td>\n",
       "      <td>0.413</td>\n",
       "      <td>5.936</td>\n",
       "      <td>19.5</td>\n",
       "      <td>10.5857</td>\n",
       "      <td>4</td>\n",
       "      <td>334</td>\n",
       "      <td>22.0</td>\n",
       "      <td>5.57</td>\n",
       "      <td>20.6</td>\n",
       "    </tr>\n",
       "  </tbody>\n",
       "</table>\n",
       "</div>"
      ],
      "text/plain": [
       "        crim    zn  indus  chas    nox     rm   age      dis  rad  tax  \\\n",
       "354  0.04301  80.0   1.91     0  0.413  5.663  21.9  10.5857    4  334   \n",
       "355  0.10659  80.0   1.91     0  0.413  5.936  19.5  10.5857    4  334   \n",
       "\n",
       "     ptratio  lstat  medv  \n",
       "354     22.0   8.05  18.2  \n",
       "355     22.0   5.57  20.6  "
      ]
     },
     "execution_count": 49,
     "metadata": {},
     "output_type": "execute_result"
    }
   ],
   "source": [
    "Boston[Boston['ptratio'] > 21.2]"
   ]
  },
  {
   "cell_type": "markdown",
   "id": "de5170c4",
   "metadata": {},
   "source": [
    "Niti jedan od ekstremnih slučajeva nije zajednički.\n",
    "\n",
    "None of the extreme cases overlap."
   ]
  },
  {
   "cell_type": "markdown",
   "id": "f88ecc31",
   "metadata": {},
   "source": [
    "# f)"
   ]
  },
  {
   "cell_type": "code",
   "execution_count": 50,
   "id": "d72aac8b",
   "metadata": {},
   "outputs": [
    {
     "name": "stdout",
     "output_type": "stream",
     "text": [
      "Broj kvartova blizu rijeke: 35\n"
     ]
    }
   ],
   "source": [
    "print('Broj kvartova blizu rijeke:',Boston[Boston['chas'] > 0].count()[0])"
   ]
  },
  {
   "cell_type": "markdown",
   "id": "5195be9b",
   "metadata": {},
   "source": [
    "# g)"
   ]
  },
  {
   "cell_type": "code",
   "execution_count": 51,
   "id": "b86921f4",
   "metadata": {},
   "outputs": [
    {
     "data": {
      "text/plain": [
       "19.05"
      ]
     },
     "execution_count": 51,
     "metadata": {},
     "output_type": "execute_result"
    }
   ],
   "source": [
    "Boston['ptratio'].median()"
   ]
  },
  {
   "cell_type": "markdown",
   "id": "4c2e5e7e",
   "metadata": {},
   "source": [
    "# h)"
   ]
  },
  {
   "cell_type": "code",
   "execution_count": 52,
   "id": "cc17c58d",
   "metadata": {},
   "outputs": [
    {
     "data": {
      "text/html": [
       "<div>\n",
       "<style scoped>\n",
       "    .dataframe tbody tr th:only-of-type {\n",
       "        vertical-align: middle;\n",
       "    }\n",
       "\n",
       "    .dataframe tbody tr th {\n",
       "        vertical-align: top;\n",
       "    }\n",
       "\n",
       "    .dataframe thead th {\n",
       "        text-align: right;\n",
       "    }\n",
       "</style>\n",
       "<table border=\"1\" class=\"dataframe\">\n",
       "  <thead>\n",
       "    <tr style=\"text-align: right;\">\n",
       "      <th></th>\n",
       "      <th>crim</th>\n",
       "      <th>zn</th>\n",
       "      <th>indus</th>\n",
       "      <th>chas</th>\n",
       "      <th>nox</th>\n",
       "      <th>rm</th>\n",
       "      <th>age</th>\n",
       "      <th>dis</th>\n",
       "      <th>rad</th>\n",
       "      <th>tax</th>\n",
       "      <th>ptratio</th>\n",
       "      <th>lstat</th>\n",
       "      <th>medv</th>\n",
       "    </tr>\n",
       "  </thead>\n",
       "  <tbody>\n",
       "    <tr>\n",
       "      <th>398</th>\n",
       "      <td>38.3518</td>\n",
       "      <td>0.0</td>\n",
       "      <td>18.1</td>\n",
       "      <td>0</td>\n",
       "      <td>0.693</td>\n",
       "      <td>5.453</td>\n",
       "      <td>100.0</td>\n",
       "      <td>1.4896</td>\n",
       "      <td>24</td>\n",
       "      <td>666</td>\n",
       "      <td>20.2</td>\n",
       "      <td>30.59</td>\n",
       "      <td>5.0</td>\n",
       "    </tr>\n",
       "    <tr>\n",
       "      <th>405</th>\n",
       "      <td>67.9208</td>\n",
       "      <td>0.0</td>\n",
       "      <td>18.1</td>\n",
       "      <td>0</td>\n",
       "      <td>0.693</td>\n",
       "      <td>5.683</td>\n",
       "      <td>100.0</td>\n",
       "      <td>1.4254</td>\n",
       "      <td>24</td>\n",
       "      <td>666</td>\n",
       "      <td>20.2</td>\n",
       "      <td>22.98</td>\n",
       "      <td>5.0</td>\n",
       "    </tr>\n",
       "  </tbody>\n",
       "</table>\n",
       "</div>"
      ],
      "text/plain": [
       "        crim   zn  indus  chas    nox     rm    age     dis  rad  tax  \\\n",
       "398  38.3518  0.0   18.1     0  0.693  5.453  100.0  1.4896   24  666   \n",
       "405  67.9208  0.0   18.1     0  0.693  5.683  100.0  1.4254   24  666   \n",
       "\n",
       "     ptratio  lstat  medv  \n",
       "398     20.2  30.59   5.0  \n",
       "405     20.2  22.98   5.0  "
      ]
     },
     "execution_count": 52,
     "metadata": {},
     "output_type": "execute_result"
    }
   ],
   "source": [
    "Boston[Boston['medv'] == Boston['medv'].min()]"
   ]
  },
  {
   "cell_type": "code",
   "execution_count": 53,
   "id": "2679235d",
   "metadata": {},
   "outputs": [
    {
     "data": {
      "text/plain": [
       "crim         3.613524\n",
       "zn          11.363636\n",
       "indus       11.136779\n",
       "chas         0.069170\n",
       "nox          0.554695\n",
       "rm           6.284634\n",
       "age         68.574901\n",
       "dis          3.795043\n",
       "rad          9.549407\n",
       "tax        408.237154\n",
       "ptratio     18.455534\n",
       "lstat       12.653063\n",
       "medv        22.532806\n",
       "dtype: float64"
      ]
     },
     "execution_count": 53,
     "metadata": {},
     "output_type": "execute_result"
    }
   ],
   "source": [
    "Boston.mean()"
   ]
  },
  {
   "cell_type": "markdown",
   "id": "bf9d3a93",
   "metadata": {},
   "source": [
    "Vrijednosti koje se najviše ističu su: visoka stopa kriminala, jako stara kućanstva, velika udaljenost od autoputa. \n",
    "\n",
    "The most prominent values are: high crime rate, very old households, and great distance from the highway."
   ]
  },
  {
   "cell_type": "markdown",
   "id": "5490cd84",
   "metadata": {},
   "source": [
    "# i)"
   ]
  },
  {
   "cell_type": "code",
   "execution_count": 54,
   "id": "ebcbf389",
   "metadata": {},
   "outputs": [
    {
     "name": "stdout",
     "output_type": "stream",
     "text": [
      "više od 7 soba: 64\n"
     ]
    }
   ],
   "source": [
    "print('više od 7 soba:', Boston[Boston['rm'] > 7].count()[0])"
   ]
  },
  {
   "cell_type": "code",
   "execution_count": 55,
   "id": "419bf5ee",
   "metadata": {},
   "outputs": [
    {
     "name": "stdout",
     "output_type": "stream",
     "text": [
      "više od 8 soba: 13\n"
     ]
    }
   ],
   "source": [
    "print('više od 8 soba:', Boston[Boston['rm'] > 8].count()[0])"
   ]
  },
  {
   "cell_type": "code",
   "execution_count": 56,
   "id": "38dedeae",
   "metadata": {},
   "outputs": [
    {
     "data": {
      "text/html": [
       "<div>\n",
       "<style scoped>\n",
       "    .dataframe tbody tr th:only-of-type {\n",
       "        vertical-align: middle;\n",
       "    }\n",
       "\n",
       "    .dataframe tbody tr th {\n",
       "        vertical-align: top;\n",
       "    }\n",
       "\n",
       "    .dataframe thead th {\n",
       "        text-align: right;\n",
       "    }\n",
       "</style>\n",
       "<table border=\"1\" class=\"dataframe\">\n",
       "  <thead>\n",
       "    <tr style=\"text-align: right;\">\n",
       "      <th></th>\n",
       "      <th>crim</th>\n",
       "      <th>zn</th>\n",
       "      <th>indus</th>\n",
       "      <th>chas</th>\n",
       "      <th>nox</th>\n",
       "      <th>rm</th>\n",
       "      <th>age</th>\n",
       "      <th>dis</th>\n",
       "      <th>rad</th>\n",
       "      <th>tax</th>\n",
       "      <th>ptratio</th>\n",
       "      <th>lstat</th>\n",
       "      <th>medv</th>\n",
       "    </tr>\n",
       "  </thead>\n",
       "  <tbody>\n",
       "    <tr>\n",
       "      <th>97</th>\n",
       "      <td>0.12083</td>\n",
       "      <td>0.0</td>\n",
       "      <td>2.89</td>\n",
       "      <td>0</td>\n",
       "      <td>0.4450</td>\n",
       "      <td>8.069</td>\n",
       "      <td>76.0</td>\n",
       "      <td>3.4952</td>\n",
       "      <td>2</td>\n",
       "      <td>276</td>\n",
       "      <td>18.0</td>\n",
       "      <td>4.21</td>\n",
       "      <td>38.7</td>\n",
       "    </tr>\n",
       "    <tr>\n",
       "      <th>163</th>\n",
       "      <td>1.51902</td>\n",
       "      <td>0.0</td>\n",
       "      <td>19.58</td>\n",
       "      <td>1</td>\n",
       "      <td>0.6050</td>\n",
       "      <td>8.375</td>\n",
       "      <td>93.9</td>\n",
       "      <td>2.1620</td>\n",
       "      <td>5</td>\n",
       "      <td>403</td>\n",
       "      <td>14.7</td>\n",
       "      <td>3.32</td>\n",
       "      <td>50.0</td>\n",
       "    </tr>\n",
       "    <tr>\n",
       "      <th>204</th>\n",
       "      <td>0.02009</td>\n",
       "      <td>95.0</td>\n",
       "      <td>2.68</td>\n",
       "      <td>0</td>\n",
       "      <td>0.4161</td>\n",
       "      <td>8.034</td>\n",
       "      <td>31.9</td>\n",
       "      <td>5.1180</td>\n",
       "      <td>4</td>\n",
       "      <td>224</td>\n",
       "      <td>14.7</td>\n",
       "      <td>2.88</td>\n",
       "      <td>50.0</td>\n",
       "    </tr>\n",
       "    <tr>\n",
       "      <th>224</th>\n",
       "      <td>0.31533</td>\n",
       "      <td>0.0</td>\n",
       "      <td>6.20</td>\n",
       "      <td>0</td>\n",
       "      <td>0.5040</td>\n",
       "      <td>8.266</td>\n",
       "      <td>78.3</td>\n",
       "      <td>2.8944</td>\n",
       "      <td>8</td>\n",
       "      <td>307</td>\n",
       "      <td>17.4</td>\n",
       "      <td>4.14</td>\n",
       "      <td>44.8</td>\n",
       "    </tr>\n",
       "    <tr>\n",
       "      <th>225</th>\n",
       "      <td>0.52693</td>\n",
       "      <td>0.0</td>\n",
       "      <td>6.20</td>\n",
       "      <td>0</td>\n",
       "      <td>0.5040</td>\n",
       "      <td>8.725</td>\n",
       "      <td>83.0</td>\n",
       "      <td>2.8944</td>\n",
       "      <td>8</td>\n",
       "      <td>307</td>\n",
       "      <td>17.4</td>\n",
       "      <td>4.63</td>\n",
       "      <td>50.0</td>\n",
       "    </tr>\n",
       "    <tr>\n",
       "      <th>226</th>\n",
       "      <td>0.38214</td>\n",
       "      <td>0.0</td>\n",
       "      <td>6.20</td>\n",
       "      <td>0</td>\n",
       "      <td>0.5040</td>\n",
       "      <td>8.040</td>\n",
       "      <td>86.5</td>\n",
       "      <td>3.2157</td>\n",
       "      <td>8</td>\n",
       "      <td>307</td>\n",
       "      <td>17.4</td>\n",
       "      <td>3.13</td>\n",
       "      <td>37.6</td>\n",
       "    </tr>\n",
       "    <tr>\n",
       "      <th>232</th>\n",
       "      <td>0.57529</td>\n",
       "      <td>0.0</td>\n",
       "      <td>6.20</td>\n",
       "      <td>0</td>\n",
       "      <td>0.5070</td>\n",
       "      <td>8.337</td>\n",
       "      <td>73.3</td>\n",
       "      <td>3.8384</td>\n",
       "      <td>8</td>\n",
       "      <td>307</td>\n",
       "      <td>17.4</td>\n",
       "      <td>2.47</td>\n",
       "      <td>41.7</td>\n",
       "    </tr>\n",
       "    <tr>\n",
       "      <th>233</th>\n",
       "      <td>0.33147</td>\n",
       "      <td>0.0</td>\n",
       "      <td>6.20</td>\n",
       "      <td>0</td>\n",
       "      <td>0.5070</td>\n",
       "      <td>8.247</td>\n",
       "      <td>70.4</td>\n",
       "      <td>3.6519</td>\n",
       "      <td>8</td>\n",
       "      <td>307</td>\n",
       "      <td>17.4</td>\n",
       "      <td>3.95</td>\n",
       "      <td>48.3</td>\n",
       "    </tr>\n",
       "    <tr>\n",
       "      <th>253</th>\n",
       "      <td>0.36894</td>\n",
       "      <td>22.0</td>\n",
       "      <td>5.86</td>\n",
       "      <td>0</td>\n",
       "      <td>0.4310</td>\n",
       "      <td>8.259</td>\n",
       "      <td>8.4</td>\n",
       "      <td>8.9067</td>\n",
       "      <td>7</td>\n",
       "      <td>330</td>\n",
       "      <td>19.1</td>\n",
       "      <td>3.54</td>\n",
       "      <td>42.8</td>\n",
       "    </tr>\n",
       "    <tr>\n",
       "      <th>257</th>\n",
       "      <td>0.61154</td>\n",
       "      <td>20.0</td>\n",
       "      <td>3.97</td>\n",
       "      <td>0</td>\n",
       "      <td>0.6470</td>\n",
       "      <td>8.704</td>\n",
       "      <td>86.9</td>\n",
       "      <td>1.8010</td>\n",
       "      <td>5</td>\n",
       "      <td>264</td>\n",
       "      <td>13.0</td>\n",
       "      <td>5.12</td>\n",
       "      <td>50.0</td>\n",
       "    </tr>\n",
       "    <tr>\n",
       "      <th>262</th>\n",
       "      <td>0.52014</td>\n",
       "      <td>20.0</td>\n",
       "      <td>3.97</td>\n",
       "      <td>0</td>\n",
       "      <td>0.6470</td>\n",
       "      <td>8.398</td>\n",
       "      <td>91.5</td>\n",
       "      <td>2.2885</td>\n",
       "      <td>5</td>\n",
       "      <td>264</td>\n",
       "      <td>13.0</td>\n",
       "      <td>5.91</td>\n",
       "      <td>48.8</td>\n",
       "    </tr>\n",
       "    <tr>\n",
       "      <th>267</th>\n",
       "      <td>0.57834</td>\n",
       "      <td>20.0</td>\n",
       "      <td>3.97</td>\n",
       "      <td>0</td>\n",
       "      <td>0.5750</td>\n",
       "      <td>8.297</td>\n",
       "      <td>67.0</td>\n",
       "      <td>2.4216</td>\n",
       "      <td>5</td>\n",
       "      <td>264</td>\n",
       "      <td>13.0</td>\n",
       "      <td>7.44</td>\n",
       "      <td>50.0</td>\n",
       "    </tr>\n",
       "    <tr>\n",
       "      <th>364</th>\n",
       "      <td>3.47428</td>\n",
       "      <td>0.0</td>\n",
       "      <td>18.10</td>\n",
       "      <td>1</td>\n",
       "      <td>0.7180</td>\n",
       "      <td>8.780</td>\n",
       "      <td>82.9</td>\n",
       "      <td>1.9047</td>\n",
       "      <td>24</td>\n",
       "      <td>666</td>\n",
       "      <td>20.2</td>\n",
       "      <td>5.29</td>\n",
       "      <td>21.9</td>\n",
       "    </tr>\n",
       "  </tbody>\n",
       "</table>\n",
       "</div>"
      ],
      "text/plain": [
       "        crim    zn  indus  chas     nox     rm   age     dis  rad  tax  \\\n",
       "97   0.12083   0.0   2.89     0  0.4450  8.069  76.0  3.4952    2  276   \n",
       "163  1.51902   0.0  19.58     1  0.6050  8.375  93.9  2.1620    5  403   \n",
       "204  0.02009  95.0   2.68     0  0.4161  8.034  31.9  5.1180    4  224   \n",
       "224  0.31533   0.0   6.20     0  0.5040  8.266  78.3  2.8944    8  307   \n",
       "225  0.52693   0.0   6.20     0  0.5040  8.725  83.0  2.8944    8  307   \n",
       "226  0.38214   0.0   6.20     0  0.5040  8.040  86.5  3.2157    8  307   \n",
       "232  0.57529   0.0   6.20     0  0.5070  8.337  73.3  3.8384    8  307   \n",
       "233  0.33147   0.0   6.20     0  0.5070  8.247  70.4  3.6519    8  307   \n",
       "253  0.36894  22.0   5.86     0  0.4310  8.259   8.4  8.9067    7  330   \n",
       "257  0.61154  20.0   3.97     0  0.6470  8.704  86.9  1.8010    5  264   \n",
       "262  0.52014  20.0   3.97     0  0.6470  8.398  91.5  2.2885    5  264   \n",
       "267  0.57834  20.0   3.97     0  0.5750  8.297  67.0  2.4216    5  264   \n",
       "364  3.47428   0.0  18.10     1  0.7180  8.780  82.9  1.9047   24  666   \n",
       "\n",
       "     ptratio  lstat  medv  \n",
       "97      18.0   4.21  38.7  \n",
       "163     14.7   3.32  50.0  \n",
       "204     14.7   2.88  50.0  \n",
       "224     17.4   4.14  44.8  \n",
       "225     17.4   4.63  50.0  \n",
       "226     17.4   3.13  37.6  \n",
       "232     17.4   2.47  41.7  \n",
       "233     17.4   3.95  48.3  \n",
       "253     19.1   3.54  42.8  \n",
       "257     13.0   5.12  50.0  \n",
       "262     13.0   5.91  48.8  \n",
       "267     13.0   7.44  50.0  \n",
       "364     20.2   5.29  21.9  "
      ]
     },
     "execution_count": 56,
     "metadata": {},
     "output_type": "execute_result"
    }
   ],
   "source": [
    "lots_rooms = Boston[Boston['rm'] > 8];lots_rooms"
   ]
  },
  {
   "cell_type": "code",
   "execution_count": 57,
   "id": "1705dd4e",
   "metadata": {},
   "outputs": [
    {
     "data": {
      "text/plain": [
       "71.53846153846153"
      ]
     },
     "execution_count": 57,
     "metadata": {},
     "output_type": "execute_result"
    }
   ],
   "source": [
    "lots_rooms['age'].mean()"
   ]
  },
  {
   "cell_type": "markdown",
   "id": "582110cb",
   "metadata": {},
   "source": [
    "U prosjeku su jako stara.\n",
    "\n",
    "On average, they are very old."
   ]
  },
  {
   "cell_type": "code",
   "execution_count": 58,
   "id": "85d22a05",
   "metadata": {},
   "outputs": [
    {
     "data": {
      "text/plain": [
       "0.7187953846153845"
      ]
     },
     "execution_count": 58,
     "metadata": {},
     "output_type": "execute_result"
    }
   ],
   "source": [
    "lots_rooms['crim'].mean()"
   ]
  },
  {
   "cell_type": "markdown",
   "id": "0abcd6e3",
   "metadata": {},
   "source": [
    "Mala stopa kriminala.\n",
    "\n",
    "Low crime rate."
   ]
  },
  {
   "cell_type": "code",
   "execution_count": 59,
   "id": "081f1bcf",
   "metadata": {},
   "outputs": [
    {
     "data": {
      "text/plain": [
       "4.31"
      ]
     },
     "execution_count": 59,
     "metadata": {},
     "output_type": "execute_result"
    }
   ],
   "source": [
    "lots_rooms['lstat'].mean()"
   ]
  },
  {
   "cell_type": "markdown",
   "id": "43a38b96",
   "metadata": {},
   "source": [
    "Mali lstat, možda tu žive stariji, ugledniji ljudi s velikim kućama.\n",
    "\n",
    "Small lstat, maybe older, more reputable people with large houses live there."
   ]
  }
 ],
 "metadata": {
  "kernelspec": {
   "display_name": "Python 3 (ipykernel)",
   "language": "python",
   "name": "python3"
  },
  "language_info": {
   "codemirror_mode": {
    "name": "ipython",
    "version": 3
   },
   "file_extension": ".py",
   "mimetype": "text/x-python",
   "name": "python",
   "nbconvert_exporter": "python",
   "pygments_lexer": "ipython3",
   "version": "3.11.11"
  }
 },
 "nbformat": 4,
 "nbformat_minor": 5
}
